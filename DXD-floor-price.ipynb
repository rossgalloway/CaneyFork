{
 "cells": [
  {
   "attachments": {},
   "cell_type": "markdown",
   "metadata": {},
   "source": [
    "# DXD Floor Price Support\n",
    "\n",
    "## Summary\n",
    "\n",
    "- DXD Floor Price Support priced at 70% of the current DXD-NAV Ratio(DXD’s circulating market cap to Treasury NAV)\n",
    "- Must have clear indication of what is included in NAV.\n",
    "- This price becomes a reference, or schelling point, for the DXD token and should stabilize around this level based on the expectation that one can always sell/redeem at this price.\n",
    "- Large holders may discount this if there is no direct redemption as they will still suffer from slippage.\n",
    "- Speculation on growth of the treasury via income or appreciation could lead to a premium over the 70% .\n",
    "- If DXD can be minted for ETH or Stablecoins at 100 % of NAV then there should never be a premium over 100 % except during short, irrational periods.\n",
    "- The premium above 70 % NAV will be directly impacted by the means with which DXD holders can realize gains at a higher rate in the future. Inverse Bonds will impact this.\n",
    "- Large redemption events at 70% increase the book value of all remaining unredeemed DXD, but the liquid price of DXD is still 70% of that number.\n",
    "- 70% of a higher book value is still higher than before, but rational investors should not accept a 100% book value in their calcs unless it is redeemable at that rate.\n",
    "\n",
    "## Direct vs Indirect Redemptions\n",
    "\n",
    "There are 2 general strategies for holding a price floor: Direct and Indirect. \n",
    "\n",
    "(For clarity, these terms will refer to the interaction between the DXD seller and the treasury, so direct refers to a direct interaction with the treasury, while indirect interactions are with the market.)\n",
    "\n",
    "Direct: Treasury funds are made available for direct redemption by token holders.\n",
    "Indirect: The DAO uses treasury funds to try to assure a certain set of criteria in the wider market (similar to buybacks).\n",
    "\n",
    "### Direct Redemptions\n",
    "\n",
    "Direct redemptions will typically rely on a price oracle to determine the redemption rate for DXD tokens at the correct percentage of NAV (i.e. 70%). This model allows for slippage free redemptions, but adds some risk to the DAO if the oracle can be exploited. When discussing oracle attacks we must be clear about what the oracle is, as many oracles consist of a set of actors who aggregate data from another source. An oracle network, similar to the proposal by 3ac (3 Autist Consulting) may be very robust in protecting against its participants from manipulating the price, but if they all use the same data source then the attack surface has moved to that pool. The oracle then needs to be designed so that the aggregating actors are able to determine if their data sources are being manipulated and act to protect the treasury by rejecting that data.\n",
    "\n",
    "The most recent proposal ([seen here](https://docs.google.com/document/d/1a3REvOrll9lal5xkz0xmIl4DzxxiUKGT1wfo_PE_ifQ/edit)) specifies how the aggregator works, but does not specify where the price data itself is coming from. There is no discussion of what criteria should be used to determine whether the price is being manipulated maliciously by a 3rd party. Most oracle attacks that we have seen in the wild affect the data sources themselves via manipulation of the trading mechanisms and often in low liquidity pools. \n",
    "\n",
    "With that said, this is probably fine given that the NAV value per token consists mostly of large cap, highly liquid assets like ETH, USDC, DAI, etc. These assets would be very hard to manipulate and likely EV- just to game this redemption.\n",
    "\n",
    "### Indirect Redemptions\n",
    "\n",
    "Indirect redemptions rely on actors other than DXD holders to maintain the 70% floor price, and any DXD holder looking to exit their position would do so on the open market. This approach would limit the need for a price oracle as that role would be filled by the market. Indirect redemptions would not be able to offer similar execution assurances for large token holders and would most likely require a large intervention into the market by DXdao itself to support token liquidity. This could come in the form of protocol owned liquidity in an AMM, or standing buy orders for the DXD token on an exchange like Mesa.\n",
    "\n",
    "## Best Option\n",
    "\n",
    "While there are some risks in the direct redemption strategy, we believe that this is the best option given current circumstances. Assuming that the pricing oracle is sufficiently robust and proper safeguards are put on the amount of treasury funds that can be redeemed at once, this appears to be the fastest and least complicated way to meet the requirements of the Price Floor Mandate. We have the following questions that we would like to see clarified before implementation:\n",
    "\n",
    "- How does the oracle software determine a price? What sources does it draw from? Will this be customizable and what will come \"out of the box\"?\n",
    "- Is there an optimal number of oracle nodes to aggregate? Should the acceptance threshold for price data change with the number of nodes participating?\n",
    "- Is there a benefit to letting the redeeming party choose what token they want?\n",
    "- If an allowance is set up between the redemption contract and the treasury, would this not allow the redemption contract to request that allowance multiple times?\n",
    "- The calculation of the NAV based on circulating supply needs to be clarified.\n",
    "- Should multi-day TWAPs be used for the prices of less liquid assets like Swapr, even with the 0.25 multiplier?\n"
   ]
  },
  {
   "cell_type": "code",
   "execution_count": 2,
   "metadata": {},
   "outputs": [
    {
     "name": "stdout",
     "output_type": "stream",
     "text": [
      "test\n"
     ]
    }
   ],
   "source": [
    "print('test')"
   ]
  }
 ],
 "metadata": {
  "kernelspec": {
   "display_name": "Python 3",
   "language": "python",
   "name": "python3"
  },
  "language_info": {
   "codemirror_mode": {
    "name": "ipython",
    "version": 3
   },
   "file_extension": ".py",
   "mimetype": "text/x-python",
   "name": "python",
   "nbconvert_exporter": "python",
   "pygments_lexer": "ipython3",
   "version": "3.8.10"
  },
  "orig_nbformat": 4,
  "vscode": {
   "interpreter": {
    "hash": "916dbcbb3f70747c44a77c7bcd40155683ae19c65e1c03b4aa3499c5328201f1"
   }
  }
 },
 "nbformat": 4,
 "nbformat_minor": 2
}
