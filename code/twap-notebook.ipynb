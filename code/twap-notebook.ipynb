{
 "cells": [
  {
   "cell_type": "code",
   "execution_count": 1,
   "metadata": {},
   "outputs": [
    {
     "name": "stdout",
     "output_type": "stream",
     "text": [
      "\n",
      "getting data from API...\n",
      "\n",
      "calculating TWAP...\n",
      "\n",
      "last 30 day TWAP value is : 479.39886740331497\n",
      "\n",
      "calculating average Price...\n",
      "\n",
      "the average DXD price between 2022-11-14 00:00:00 and 2022-12-20 00:00:00 is: 463.42040206222674\n",
      "\n",
      "\n"
     ]
    }
   ],
   "source": [
    "from pycoingecko import CoinGeckoAPI\n",
    "from datetime import datetime\n",
    "import pandas as pd\n",
    "import time\n",
    "cg = CoinGeckoAPI()\n",
    "\n",
    "# Set start date and convert to unix timestamp\n",
    "# Entered desired date below with yr, mo, day, hr, min.\n",
    "startdate1 = datetime(2022, 11, 14, 0, 0)\n",
    "startdate = datetime.timestamp(startdate1)\n",
    "startdate = str(startdate)\n",
    "# Set end date and convert to unix timestamp\n",
    "# Entered desired date below with yr, mo, day, hr, min.\n",
    "enddate1 = datetime(2022, 12, 20, 0, 0)\n",
    "enddate = datetime.timestamp(enddate1)\n",
    "enddate = str(enddate)\n",
    "\n",
    "print('\\ngetting data from API...')\n",
    "# Import price data from coingecko.\n",
    "# TWAP data feed. Takes inputs for token, reference currency, and timeframe.\n",
    "dxdOhlcData = cg.get_coin_ohlc_by_id(id='dxdao', vs_currency='usd', days=30)\n",
    "# 30 day average price data feed. Takes inputs for token, reference currency, and a specific timeframe.\n",
    "# Timeframe to be determined with 'startdate' and 'enddate' parameters above\n",
    "dxdPriceData = cg.get_coin_market_chart_range_by_id(\n",
    "    id='dxdao', vs_currency='usd', from_timestamp=startdate, to_timestamp=enddate)\n",
    "\n",
    "# Functions\n",
    "\n",
    "# option 1. True twap for last 30 days using candle data. Coingecko data gets worse after 30days\n",
    "\n",
    "\n",
    "def twapPrice(dataFrame):\n",
    "\n",
    "    # create dataframe and format columns\n",
    "    print('\\ncalculating TWAP...')\n",
    "    df = pd.DataFrame(dataFrame, columns=[\n",
    "                      \"date\", \"open\", \"high\", \"low\", \"close\"])\n",
    "    # convert date from unix to date-time so it isn't read in mean calcs.\n",
    "    df['date'] = pd.to_datetime(df['date'], unit='ms')\n",
    "    # Calculate the mean of each row\n",
    "    df['av_row'] = df.mean(axis=1, numeric_only=True)\n",
    "    # Calculate the TWAP by taking the mean of the means just found\n",
    "    twap = df['av_row'].mean()\n",
    "    return twap\n",
    "\n",
    "# Option 2. Average price over timeframe specified at start.\n",
    "\n",
    "\n",
    "def avgPrice(dataFrame):\n",
    "\n",
    "    print('\\ncalculating average Price...')\n",
    "    dfrange = pd.DataFrame(dataFrame)\n",
    "    # remove un-needed data\n",
    "    cleanedrange = dfrange.drop(\n",
    "        ['market_caps', 'total_volumes'], axis='columns')\n",
    "    # clean up data by splitting list into separate dataframe\n",
    "    split_range = pd.DataFrame(\n",
    "        cleanedrange['prices'].tolist(), columns=['date', 'price'])\n",
    "    # convert date from unix to date-time so it isn't read in mean calcs.\n",
    "    split_range['date'] = pd.to_datetime(split_range['date'], unit='ms')\n",
    "    # Calculate the average value by taking the mean of the price column\n",
    "    averagePrice = split_range['price'].mean()\n",
    "    return averagePrice\n",
    "\n",
    "# Output\n",
    "\n",
    "\n",
    "print('\\nlast 30 day TWAP value is : ' + (str(twapPrice(dxdOhlcData))))\n",
    "print('\\nthe average DXD price between ' + str(startdate1) +\n",
    "      ' and ' + str(enddate1) + ' is: ' + str(avgPrice(dxdPriceData)))\n",
    "print('\\n')\n"
   ]
  }
 ],
 "metadata": {
  "kernelspec": {
   "display_name": "Python 3",
   "language": "python",
   "name": "python3"
  },
  "language_info": {
   "codemirror_mode": {
    "name": "ipython",
    "version": 3
   },
   "file_extension": ".py",
   "mimetype": "text/x-python",
   "name": "python",
   "nbconvert_exporter": "python",
   "pygments_lexer": "ipython3",
   "version": "3.8.10"
  },
  "orig_nbformat": 4,
  "vscode": {
   "interpreter": {
    "hash": "916dbcbb3f70747c44a77c7bcd40155683ae19c65e1c03b4aa3499c5328201f1"
   }
  }
 },
 "nbformat": 4,
 "nbformat_minor": 2
}
