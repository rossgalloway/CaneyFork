{
 "cells": [
  {
   "attachments": {},
   "cell_type": "markdown",
   "metadata": {},
   "source": [
    "# DXdao Gov 2.0\n",
    "\n",
    "## DXD Voting Power:"
   ]
  },
  {
   "cell_type": "code",
   "execution_count": 35,
   "metadata": {},
   "outputs": [
    {
     "data": {
      "application/vnd.jupyter.widget-view+json": {
       "model_id": "e9cdc2a012ea4275929b8e398c3ecb4c",
       "version_major": 2,
       "version_minor": 0
      },
      "text/plain": [
       "interactive(children=(IntSlider(value=500, description='dxd_committed', max=1000), IntSlider(value=24, descrip…"
      ]
     },
     "metadata": {},
     "output_type": "display_data"
    },
    {
     "data": {
      "text/plain": [
       "<function __main__.update(dxd_committed, timeframe_in_months)>"
      ]
     },
     "execution_count": 35,
     "metadata": {},
     "output_type": "execute_result"
    }
   ],
   "source": [
    "import matplotlib.pyplot as plt\n",
    "from ipywidgets import interact\n",
    "import numpy as np\n",
    "\n",
    "growth_rate = 0.75\n",
    "schelling_time = 6\n",
    "\n",
    "# Define the equation y = A * (B/C)^X\n",
    "# A: amount of DXD deposited\n",
    "# B: the duration of the deposit (in months)\n",
    "# C: the the break even time to deposit (in months)\n",
    "# X: the growth rate\n",
    "\n",
    "\n",
    "def equation(deposit, timeframe_in_months, schelling_time, growth_rate):\n",
    "    return deposit * (timeframe_in_months/schelling_time)**growth_rate\n",
    "\n",
    "# Create a function that updates the plot and the value of y when the slider values change\n",
    "\n",
    "\n",
    "def update(dxd_committed, timeframe_in_months):\n",
    "    # Create a sequence of evenly-spaced values that covers the range of the x data points\n",
    "    x_values = np.linspace(0, 48)\n",
    "\n",
    "    # Evaluate the equation at the x values\n",
    "    y_values = equation(\n",
    "        dxd_committed, x_values, schelling_time, growth_rate)\n",
    "\n",
    "    # Plot the curve\n",
    "    plt.clf()\n",
    "    plt.plot(x_values, y_values, 'r')\n",
    "    plt.xlim(0, 48)\n",
    "    plt.ylim(0, 3000)\n",
    "\n",
    "    # Add a vertical line at the specified x value\n",
    "    plt.axvline(timeframe_in_months)\n",
    "\n",
    "    # Compute the y value of the curve at the specified x value\n",
    "    y_value = equation(\n",
    "        dxd_committed, timeframe_in_months, schelling_time, growth_rate)\n",
    "\n",
    "    # Add a horizontal line at the y value of the curve\n",
    "    plt.axhline(y_value)\n",
    "    plt.annotate(f\"y = {y_value:.1f}\", (timeframe_in_months, y_value), fontsize=12)\n",
    "\n",
    "\n",
    "interact(update, dxd_committed=(0, 1000, 1),\n",
    "         timeframe_in_months=(0, 48, 1))\n",
    "\n"
   ]
  },
  {
   "attachments": {},
   "cell_type": "markdown",
   "metadata": {},
   "source": [
    "## REP voting Power"
   ]
  },
  {
   "cell_type": "code",
   "execution_count": 39,
   "metadata": {},
   "outputs": [
    {
     "data": {
      "application/vnd.jupyter.widget-view+json": {
       "model_id": "1cc354939e6d46688b49041d5d04ad14",
       "version_major": 2,
       "version_minor": 0
      },
      "text/plain": [
       "interactive(children=(FloatSlider(value=2.0, description='rep_issued', max=4.0, step=0.01), FloatSlider(value=…"
      ]
     },
     "metadata": {},
     "output_type": "display_data"
    },
    {
     "data": {
      "text/plain": [
       "<function __main__.update(rep_issued, decay_rate)>"
      ]
     },
     "execution_count": 39,
     "metadata": {},
     "output_type": "execute_result"
    }
   ],
   "source": [
    "import matplotlib.pyplot as plt\n",
    "from ipywidgets import interact\n",
    "import numpy as np\n",
    "\n",
    "# Define the parameters of the equation\n",
    "rep_issued = 4\n",
    "months_since_last = 6\n",
    "decay_rate = 1.5\n",
    "min_output = 0.05\n",
    "\n",
    "# Define the function that computes the values of the equation for a given set of parameters\n",
    "\n",
    "\n",
    "def rep_decay(rep_issued, months_since_last, decay_rate, min_output):\n",
    "    return rep_issued * (1 - (months_since_last / 24)**decay_rate)\n",
    "\n",
    "# Create a function that updates the plot and the value of y when the slider values change\n",
    "def update(rep_issued, decay_rate):\n",
    "    # Create a sequence of evenly-spaced values for Y0\n",
    "    x_values = np.linspace(0, 24)\n",
    "\n",
    "    # Evaluate the function at the Y0 values and plot the curve\n",
    "    plt.plot(x_values, rep_decay(rep_issued, x_values, decay_rate, min_output), 'r')\n",
    "\n",
    "    # Set the limits of the x- and y-axes\n",
    "    plt.xlim(0, 24)\n",
    "    plt.ylim(0, 4)\n",
    "\n",
    "interact(update, rep_issued=(0, 4, 0.01),\n",
    "         decay_rate=(0, 5, 0.01))\n"
   ]
  }
 ],
 "metadata": {
  "kernelspec": {
   "display_name": "Python 3",
   "language": "python",
   "name": "python3"
  },
  "language_info": {
   "codemirror_mode": {
    "name": "ipython",
    "version": 3
   },
   "file_extension": ".py",
   "mimetype": "text/x-python",
   "name": "python",
   "nbconvert_exporter": "python",
   "pygments_lexer": "ipython3",
   "version": "3.8.10"
  },
  "orig_nbformat": 4,
  "vscode": {
   "interpreter": {
    "hash": "916dbcbb3f70747c44a77c7bcd40155683ae19c65e1c03b4aa3499c5328201f1"
   }
  }
 },
 "nbformat": 4,
 "nbformat_minor": 2
}
